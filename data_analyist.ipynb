{
 "cells": [
  {
   "cell_type": "markdown",
   "id": "799d6938-9a44-402d-8490-9fc7aa29da57",
   "metadata": {},
   "source": [
    "# Importing necessary libraries for data analysis and visualization.\n",
    "# numpy: Library for numerical operations.\n",
    "# pandas: Library for data manipulation and analysis.\n",
    "# matplotlib.pyplot: Library for creating visualizations.\n",
    "# seaborn: Data visualization library built on top of Matplotli"
   ]
  },
  {
   "cell_type": "code",
   "execution_count": null,
   "id": "a10cde64-e1ce-478b-a592-ec6c688c07bf",
   "metadata": {},
   "outputs": [],
   "source": [
    "!pip install numpy\n",
    "!pip install pandas\n",
    "!pip install matplotlib\n",
    "!pip install seaborn"
   ]
  },
  {
   "cell_type": "markdown",
   "id": "03bf2e96-1df5-45a3-ba23-87e4cdf93d68",
   "metadata": {},
   "source": [
    "\"\"\" These lines import the necessary Python libraries for data analysis and visualization.\n",
    "# numpy is imported as np for numerical operations.\n",
    "# pandas is imported as pd for data manipulation and analysis.\n",
    "# matplotlib.pyplot is imported as plt for creating data visualizations.\n",
    "# %matplotlib inline is a Jupyter Notebook magic command that ensures Matplotlib plots are displayed inline in the notebook.\n",
    "# 3 seaborn is imported as sns, which is a data visualization library built on top of Matplotlib. \"\"\""
   ]
  },
  {
   "cell_type": "code",
   "execution_count": 2,
   "id": "91e1012d-c1b0-487f-bc93-ebc0988fa86c",
   "metadata": {},
   "outputs": [],
   "source": [
    "# import python libraries\n",
    "import numpy as np \n",
    "import pandas as pd \n",
    "import matplotlib.pyplot as plt # visualizing data\n",
    "%matplotlib inline\n",
    "import seaborn as sns"
   ]
  },
  {
   "cell_type": "markdown",
   "id": "9825a391-5036-4d97-8c6b-231fdb7bf7e1",
   "metadata": {},
   "source": [
    "# This line reads a CSV file named 'customers-100000.csv' and stores its data in a Pandas DataFrame called df.\n",
    "# The encoding='unicode_escape' argument specifies the character encoding used in the CSV file to handle special characters."
   ]
  },
  {
   "cell_type": "code",
   "execution_count": 3,
   "id": "004bf91a-0616-4cff-9be8-375fc8b32d04",
   "metadata": {},
   "outputs": [],
   "source": [
    "# import csv file\n",
    "df = pd.read_csv('files\Diwali Sales Data.csv', encoding= 'unicode_escape')"
   ]
  },
  {
   "cell_type": "markdown",
   "id": "e45a9ea9-2058-4387-8e5f-8018f08e047e",
   "metadata": {},
   "source": [
    "# This line returns the dimensions (number of rows and columns) of the DataFrame df using the shape attribute."
   ]
  },
  {
   "cell_type": "code",
   "execution_count": null,
   "id": "844af4b3-599b-4b23-beb1-eeaf0bde3085",
   "metadata": {},
   "outputs": [],
   "source": [
    "# number of colums and Row\n",
    "df.shape"
   ]
  },
  {
   "cell_type": "markdown",
   "id": "17997805-155c-4181-a817-ba69ee095d36",
   "metadata": {},
   "source": [
    "# This line displays the first 5 rows of the DataFrame df using the head() method."
   ]
  },
  {
   "cell_type": "code",
   "execution_count": null,
   "id": "b2927ab4-5332-4ca2-a4fb-3ae5ea6f1751",
   "metadata": {},
   "outputs": [],
   "source": [
    "#top 5 head\n",
    "df.head()"
   ]
  },
  {
   "cell_type": "markdown",
   "id": "d18758ff-64ff-4fe7-bb04-546a9cbcae5c",
   "metadata": {},
   "source": [
    "# This line provides information about the DataFrame df, including data types and the presence of missing values, using the info() method."
   ]
  },
  {
   "cell_type": "code",
   "execution_count": null,
   "id": "0e084df0-a6fb-4e94-aa1f-0e25b1c7867c",
   "metadata": {},
   "outputs": [],
   "source": [
    "#data frame info\n",
    "df.info()"
   ]
  },
  {
   "cell_type": "markdown",
   "id": "251971ac-082d-4fed-987e-c5f74680c965",
   "metadata": {},
   "source": [
    "# This line removes the columns 'Status' and 'unnamed1' from the DataFrame df using the drop() method with the axis=1 argument to specify columns, and inplace=True to modify the DataFrame in place."
   ]
  },
  {
   "cell_type": "code",
   "execution_count": null,
   "id": "ed0807d0-ef03-48bd-bcec-ddcc6ebfaad7",
   "metadata": {},
   "outputs": [],
   "source": [
    "#drop unrelated/blank columns\n",
    "df.drop(['Status', 'unnamed1'], axis=1, inplace=True)"
   ]
  },
  {
   "cell_type": "markdown",
   "id": "62c3eb1c-1948-4a80-8b2e-de2062a14258",
   "metadata": {},
   "source": [
    "# This line calculates the sum of null (missing) values in each column of the DataFrame df using the isnull() method."
   ]
  },
  {
   "cell_type": "code",
   "execution_count": null,
   "id": "bbd6b06e-e7bc-4203-86f5-1e793f77f55f",
   "metadata": {},
   "outputs": [],
   "source": [
    "#check for null values\n",
    "pd.isnull(df).sum()"
   ]
  },
  {
   "cell_type": "markdown",
   "id": "8c3834eb-0a84-4d99-aafb-1cf34784829c",
   "metadata": {},
   "source": [
    "# This line removes rows with any missing values from the DataFrame df using the dropna() method with inplace=True"
   ]
  },
  {
   "cell_type": "code",
   "execution_count": null,
   "id": "581571a0-8ae9-49e5-a5a2-43fe5d91a31b",
   "metadata": {},
   "outputs": [],
   "source": [
    "# drop null values\n",
    "df.dropna(inplace=True)"
   ]
  },
  {
   "cell_type": "markdown",
   "id": "df27a740-6198-4ac3-a78f-37480d1ecd59",
   "metadata": {},
   "source": [
    "# This line converts the 'Amount' column in the DataFrame df to the integer data type using the astype() method."
   ]
  },
  {
   "cell_type": "code",
   "execution_count": null,
   "id": "3a020fed-281d-4c33-a5ee-48ed1540b42d",
   "metadata": {},
   "outputs": [],
   "source": [
    "# change data type\n",
    "df['Amount'] = df['Amount'].astype('int')"
   ]
  },
  {
   "cell_type": "markdown",
   "id": "09477592-8e9f-4900-99a3-a0d0af22a850",
   "metadata": {},
   "source": [
    "# This line checks the data type of the 'Email' column in the DataFrame df using the dtypes attribute"
   ]
  },
  {
   "cell_type": "code",
   "execution_count": null,
   "id": "d170943e-2fff-4eea-a2d7-aac9ac3a435e",
   "metadata": {},
   "outputs": [],
   "source": [
    "#check data type\n",
    "df['Email'].dtypes"
   ]
  },
  {
   "cell_type": "markdown",
   "id": "43b00028-dbc9-4eb1-a052-12ee2cb39d48",
   "metadata": {},
   "source": [
    "# This line returns a list of column names in the DataFrame df using the columns attribute"
   ]
  },
  {
   "cell_type": "code",
   "execution_count": null,
   "id": "1ebd0a6d-6577-4f85-90b0-d13d862d9bb9",
   "metadata": {},
   "outputs": [],
   "source": [
    "#data frame of all colums\n",
    "df.columns"
   ]
  },
  {
   "cell_type": "markdown",
   "id": "528f0eb6-25ff-4a2b-89cd-1536189d5868",
   "metadata": {},
   "source": [
    "# This line attempts to rename the 'Marital_Status' column to 'Shaadi' in the DataFrame df. However, this change is not applied to the DataFrame because the inplace parameter is not specified."
   ]
  },
  {
   "cell_type": "code",
   "execution_count": null,
   "id": "a1fd5371-08d8-48c8-b1bc-0ac7c20aee3f",
   "metadata": {},
   "outputs": [],
   "source": [
    "#rename column\n",
    "df.rename(columns= {'Marital_Status':'Shaadi'})"
   ]
  },
  {
   "cell_type": "markdown",
   "id": "e1808969-bd69-47f2-89e5-a7c60ffb18e3",
   "metadata": {},
   "source": [
    "# This line generates summary statistics for the numerical columns in the DataFrame df using the describe() method"
   ]
  },
  {
   "cell_type": "code",
   "execution_count": null,
   "id": "d241a1f8-8ff2-4dee-ab4b-cd2ea81039ca",
   "metadata": {},
   "outputs": [],
   "source": [
    "# describe() method returns description of the data in the DataFrame (i.e. count, mean, std, etc)\n",
    "df.describe()\n"
   ]
  },
  {
   "cell_type": "markdown",
   "id": "6227d9ce-77e1-46c9-9be9-aa8556d79315",
   "metadata": {},
   "source": [
    "# This line generates summary statistics for the specified columns ('Email', 'Company', and 'Country') in the DataFrame df"
   ]
  },
  {
   "cell_type": "code",
   "execution_count": null,
   "id": "1d291c70-0f63-4770-bc93-1fbe58f7ceaa",
   "metadata": {},
   "outputs": [],
   "source": [
    "# use describe() for specific columns\n",
    "df[['Email', 'Company', 'Country']].describe()"
   ]
  },
  {
   "cell_type": "markdown",
   "id": "70d87cc1-53bb-41fb-81fe-6048c7f9fe73",
   "metadata": {},
   "source": [
    "# This section creates a bar chart using Seaborn to show the count of each 'Country' value in the DataFrame df.\n",
    "# A for loop is used to add labels to the bars indicating their counts."
   ]
  },
  {
   "cell_type": "code",
   "execution_count": null,
   "id": "6f517329-5479-4a00-b614-0d4942d04475",
   "metadata": {},
   "outputs": [],
   "source": [
    "# plotting a bar chart for Gender and it's count\n",
    "\n",
    "ax = sns.countplot(x = 'Country',data = df)\n",
    "\n",
    "for bars in ax.containers:\n",
    "    ax.bar_label(bars)"
   ]
  },
  {
   "cell_type": "markdown",
   "id": "70e0148a-5bf9-4f90-8102-228a9d897826",
   "metadata": {},
   "source": [
    "# This section groups the data by 'Gender', calculates the sum of 'Amount' for each group, and creates a bar chart using Seaborn to show the total amount vs. gender"
   ]
  },
  {
   "cell_type": "code",
   "execution_count": null,
   "id": "850372e0-d360-4500-816a-a34362ca4f57",
   "metadata": {},
   "outputs": [],
   "source": [
    "# plotting a bar chart for gender vs total amount\n",
    "\n",
    "sales_gen = df.groupby(['Gender'], as_index=False)['Amount'].sum().sort_values(by='Amount', ascending=False)\n",
    "\n",
    "sns.barplot(x = 'Gender',y= 'Amount' ,data = sales_gen)\n"
   ]
  },
  {
   "cell_type": "markdown",
   "id": "82c95b9e-c3bf-436f-a11a-a6ec22c7b731",
   "metadata": {},
   "source": [
    "# This section creates a bar chart using Seaborn to show the count of each 'Age Group' value, with bars labeled by counts. It also uses the 'Gender' column for hue (color differentiation)."
   ]
  },
  {
   "cell_type": "code",
   "execution_count": null,
   "id": "034e0b07-1729-42df-bdcc-2cafe8e4ea0d",
   "metadata": {},
   "outputs": [],
   "source": [
    "# plotting a bar chart of gender\n",
    "ax = sns.countplot(data = df, x = 'Age Group', hue = 'Gender')\n",
    "\n",
    "for bars in ax.containers:\n",
    "    ax.bar_label(bars)\n"
   ]
  },
  {
   "cell_type": "markdown",
   "id": "860f26e2-343b-465d-8d90-e07e84a6fb58",
   "metadata": {},
   "source": [
    "# This section groups the data by 'Age Group', calculates the sum of 'Amount' for each group, and creates a bar chart using Seaborn to show the total amount vs. age group."
   ]
  },
  {
   "cell_type": "code",
   "execution_count": null,
   "id": "a39e2b54-f7a6-4615-abca-75f6bdf60571",
   "metadata": {},
   "outputs": [],
   "source": [
    "# Total Amount vs Age Group\n",
    "sales_age = df.groupby(['Age Group'], as_index=False)['Amount'].sum().sort_values(by='Amount', ascending=False)\n",
    "\n",
    "sns.barplot(x = 'Age Group',y= 'Amount' ,data = sales_age)"
   ]
  },
  {
   "cell_type": "markdown",
   "id": "cdca3e1e-d5c5-4f30-a947-fa5a043d9563",
   "metadata": {},
   "source": [
    "# This section groups the data by 'State', calculates the sum of 'Orders' for each state, selects the top 10 states, and creates a bar chart to show the total number of orders from the top 10 states."
   ]
  },
  {
   "cell_type": "code",
   "execution_count": null,
   "id": "7fa7a8c5-57db-40c4-9286-d31ba837dd2f",
   "metadata": {},
   "outputs": [],
   "source": [
    "# total number of orders from top 10 states\n",
    "\n",
    "sales_state = df.groupby(['State'], as_index=False)['Orders'].sum().sort_values(by='Orders', ascending=False).head(10)\n",
    "\n",
    "sns.set(rc={'figure.figsize':(15,5)})\n",
    "sns.barplot(data = sales_state, x = 'State',y= 'Orders')"
   ]
  },
  {
   "cell_type": "markdown",
   "id": "b7b69df6-dc59-4237-aeab-544f3f4ed632",
   "metadata": {},
   "source": [
    "# This section groups the data by 'State', calculates the sum of 'Amount' for each state, selects the top 10 states, and creates a bar chart to show the total amount/sales from the top 10 states."
   ]
  },
  {
   "cell_type": "code",
   "execution_count": null,
   "id": "790f06bb-ebc7-4e3d-b464-59b3b11d6170",
   "metadata": {},
   "outputs": [],
   "source": [
    "# total amount/sales from top 10 states\n",
    "\n",
    "sales_state = df.groupby(['State'], as_index=False)['Amount'].sum().sort_values(by='Amount', ascending=False).head(10)\n",
    "\n",
    "sns.set(rc={'figure.figsize':(15,5)})\n",
    "sns.barplot(data = sales_state, x = 'State',y= 'Amount')\n"
   ]
  },
  {
   "cell_type": "markdown",
   "id": "df6d243a-7317-438f-adca-ca5edfe9692f",
   "metadata": {},
   "source": [
    "# This section creates a bar chart using Seaborn to show the count of each 'Marital_Status' value. It also adds labels to the bars indicating their counts"
   ]
  },
  {
   "cell_type": "code",
   "execution_count": null,
   "id": "ae01169f-0aca-43b1-a7af-0892a5cdfa04",
   "metadata": {},
   "outputs": [],
   "source": [
    "# Marital Status\n",
    "ax = sns.countplot(data = df, x = 'Marital_Status')\n",
    "\n",
    "sns.set(rc={'figure.figsize':(7,5)})\n",
    "for bars in ax.containers:\n",
    "    ax.bar_label(bars)\n"
   ]
  },
  {
   "cell_type": "markdown",
   "id": "874e70eb-4a68-4cfd-8788-8654bb843795",
   "metadata": {},
   "source": [
    "# this section groups the data by both 'Marital_Status' and 'Gender', calculates the sum of 'Amount' for each combination, and creates a bar chart using Seaborn to show the marital status of gender with amounts. The hue parameter differentiates the bars by gender"
   ]
  },
  {
   "cell_type": "code",
   "execution_count": null,
   "id": "976fb0c6-b03d-4c35-aa91-92563c7b2e64",
   "metadata": {},
   "outputs": [],
   "source": [
    "# martial status of gender\n",
    "sales_state = df.groupby(['Marital_Status', 'Gender'], as_index=False)['Amount'].sum().sort_values(by='Amount', ascending=False)\n",
    "\n",
    "sns.set(rc={'figure.figsize':(6,5)})\n",
    "sns.barplot(data = sales_state, x = 'Marital_Status',y= 'Amount', hue='Gender')\n"
   ]
  },
  {
   "cell_type": "markdown",
   "id": "5e56dc2a-fd28-4872-b316-2a6a86988e82",
   "metadata": {},
   "source": [
    "# This section creates a bar chart using Seaborn to show the count of each 'Occupation' value. It also adds labels to the bars indicating their counts."
   ]
  },
  {
   "cell_type": "code",
   "execution_count": null,
   "id": "654f058f-1d96-4747-939b-710a50a5b321",
   "metadata": {},
   "outputs": [],
   "source": [
    "# Occupation\n",
    "sns.set(rc={'figure.figsize':(20,5)})\n",
    "ax = sns.countplot(data = df, x = 'Occupation')\n",
    "\n",
    "for bars in ax.containers:\n",
    "    ax.bar_label(bars)"
   ]
  },
  {
   "cell_type": "markdown",
   "id": "740911f6-f524-4ec4-a926-5848286ee4b2",
   "metadata": {},
   "source": [
    "# This section groups the data by 'Occupation', calculates the sum of 'Amount' for each occupation, and creates a bar chart to show the total amount for each occupation"
   ]
  },
  {
   "cell_type": "code",
   "execution_count": null,
   "id": "e4e31275-8b66-49a7-834e-ad1e6b414ff3",
   "metadata": {},
   "outputs": [],
   "source": [
    "sales_state = df.groupby(['Occupation'], as_index=False)['Amount'].sum().sort_values(by='Amount', ascending=False)\n",
    "\n",
    "sns.set(rc={'figure.figsize':(20,5)})\n",
    "sns.barplot(data = sales_state, x = 'Occupation',y= 'Amount')"
   ]
  },
  {
   "cell_type": "markdown",
   "id": "3bb60f10-ca4c-46e0-8396-c26eaa811719",
   "metadata": {},
   "source": [
    "# This section creates a bar chart using Seaborn to show the count of each 'Product_Category' value. It also adds labels to the bars indicating their counts."
   ]
  },
  {
   "cell_type": "code",
   "execution_count": null,
   "id": "099b9ce6-f214-41c6-bfba-6855beb36abe",
   "metadata": {},
   "outputs": [],
   "source": [
    "# Product Category\n",
    "sns.set(rc={'figure.figsize':(20,5)})\n",
    "ax = sns.countplot(data = df, x = 'Product_Category')\n",
    "\n",
    "for bars in ax.containers:\n",
    "    ax.bar_label(bars)\n"
   ]
  },
  {
   "cell_type": "markdown",
   "id": "7336e3df-0ce9-4a8e-beb6-ab14edab4771",
   "metadata": {},
   "source": [
    "# This section groups the data by 'Product_Category', calculates the sum of 'Amount' for each category, selects the top 10 categories, and creates a bar chart to show the total amount for the top 10 product categories."
   ]
  },
  {
   "cell_type": "code",
   "execution_count": null,
   "id": "ec6878ba-266e-42a0-89ef-c80c9a9acbc0",
   "metadata": {},
   "outputs": [],
   "source": [
    "sales_state = df.groupby(['Product_Category'], as_index=False)['Amount'].sum().sort_values(by='Amount', ascending=False).head(10)\n",
    "\n",
    "sns.set(rc={'figure.figsize':(20,5)})\n",
    "sns.barplot(data = sales_state, x = 'Product_Category',y= 'Amount')"
   ]
  },
  {
   "cell_type": "markdown",
   "id": "ba7467ca-90e0-4bac-b85f-5c37250bbbdc",
   "metadata": {},
   "source": [
    "#  This section groups the data by 'Product_ID', calculates the sum of 'Orders' for each product, selects the top 10 products, and creates a bar chart to show the total number of orders for the top 10 products"
   ]
  },
  {
   "cell_type": "code",
   "execution_count": null,
   "id": "ec8bc2a7-facb-4700-b132-1cb79a454a48",
   "metadata": {},
   "outputs": [],
   "source": [
    "sales_state = df.groupby(['Product_ID'], as_index=False)['Orders'].sum().sort_values(by='Orders', ascending=False).head(10)\n",
    "\n",
    "sns.set(rc={'figure.figsize':(20,5)})\n",
    "sns.barplot(data = sales_state, x = 'Product_ID',y= 'Orders')"
   ]
  },
  {
   "cell_type": "markdown",
   "id": "baa0776b-b60e-4996-adf7-605e8ff33dff",
   "metadata": {},
   "source": [
    "# This section creates a bar chart to display the top 10 most sold products. It first groups the data by 'Product_ID', calculates the sum of 'Orders' for each product, selects the top 10 products using nlargest(), and then plots a bar chart to visualize the results using Matplotlib"
   ]
  },
  {
   "cell_type": "code",
   "execution_count": null,
   "id": "16e49730-dda0-4904-a4c9-5101f22af902",
   "metadata": {},
   "outputs": [],
   "source": [
    "# top 10 most sold products (same thing as above)\n",
    "\n",
    "fig1, ax1 = plt.subplots(figsize=(12,7))\n",
    "\n",
    "df.groupby('Product_ID')['Orders'].sum().nlargest(10).sort_values(ascending=False).plot(kind='bar')\n"
   ]
  }
 ],
 "metadata": {
  "kernelspec": {
   "display_name": "Python 3 (ipykernel)",
   "language": "python",
   "name": "python3"
  },
  "language_info": {
   "codemirror_mode": {
    "name": "ipython",
    "version": 3
   },
   "file_extension": ".py",
   "mimetype": "text/x-python",
   "name": "python",
   "nbconvert_exporter": "python",
   "pygments_lexer": "ipython3",
   "version": "3.11.4"
  }
 },
 "nbformat": 4,
 "nbformat_minor": 5
}
